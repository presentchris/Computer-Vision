{
  "nbformat": 4,
  "nbformat_minor": 0,
  "metadata": {
    "colab": {
      "provenance": [],
      "authorship_tag": "ABX9TyN0U+GwIYjBHTal+YKLX0uU",
      "include_colab_link": true
    },
    "kernelspec": {
      "name": "python3",
      "display_name": "Python 3"
    },
    "language_info": {
      "name": "python"
    }
  },
  "cells": [
    {
      "cell_type": "markdown",
      "metadata": {
        "id": "view-in-github",
        "colab_type": "text"
      },
      "source": [
        "<a href=\"https://colab.research.google.com/github/presentchris/Computer-Vision/blob/main/Practice_of_Stats%26Modelings7.ipynb\" target=\"_parent\"><img src=\"https://colab.research.google.com/assets/colab-badge.svg\" alt=\"Open In Colab\"/></a>"
      ]
    },
    {
      "cell_type": "markdown",
      "source": [
        "##이미지 전처리 및 특징 추출\n",
        "1. 각 이미지를 Grayscale로 변환합니다.\n",
        "2. 변환된 Grayscale 이미지를 64x64 크기로 Resize합니다.\n",
        "3. Resize된 이미지에서 윤곽(Contours)을 찾고, 이미지에 윤곽을 그립니다.\n",
        "4. 찾은 윤곽 중 가장 큰 윤곽의 면적과 둘레를 계산합니다.\n",
        "\n",
        "<요구사항>\n",
        "- OpenCV를 사용하여 이미지 처리를 수행하세요.\n",
        "- 이미지 변환, 크기 조정, 윤곽 검출 과정을 함수로 구현하세요.\n",
        "- 가장 큰 윤곽의 면적과 둘레를 출력하세요.\n"
      ],
      "metadata": {
        "id": "DDZJQXx8jKKM"
      }
    },
    {
      "cell_type": "code",
      "execution_count": null,
      "metadata": {
        "id": "KirKVEpiiz7s"
      },
      "outputs": [],
      "source": [
        "import cv2\n",
        "import numpy as np"
      ]
    },
    {
      "cell_type": "code",
      "source": [
        "def process_image(image_path):\n",
        "  # 이미지를 Grayscale로 변환\n",
        "  image = cv2.imread(image_path)\n",
        "  gray_image = cv2.cvtColor(image, cv2.COLOR_BGRA2GRAY)\n",
        "\n",
        "  # 이미지를 64x64 크기로 Resize\n",
        "  resized_image = cv2.resize(gray_image, (64, 64))\n",
        "\n",
        "  # 윤곽(Contours) 찾기\n",
        "  _, thresh = cv2.threshold(resized_image, 127, 255, cv2.THRESH_BINARY)\n",
        "  contours, _ = cv2.findContours(thresh, cv2.RETR_TREE, cv2.CHAIN_APPROX_SIMPLE)\n",
        "\n",
        "  # 가장 큰 윤곽 선택\n",
        "  c = max(contours, key=cv2.contourArea)\n",
        "\n",
        "  # 면적과 둘레 계산\n",
        "  area = cv2.contourArea(c)\n",
        "  perimeter = cv2.arcLength(c, True)\n",
        "\n",
        "  # 윤곽 그리기\n",
        "  contour_image = cv2.drawContours(resized_image.copy(), [c], -1, (0, 255, 0), 3)\n",
        "\n",
        "  return contour_image, area, perimeter\n",
        "\n",
        "# 예시 이미지 경로(적절히 변경 필요)\n",
        "image_path = 'path/to/my/image.jpg'\n",
        "contour_image, area, perimeter = process_image(image_path)\n",
        "\n",
        "print(f'Area: {area}, Perimeter: {perimeter}')\n",
        "cv2.imshow('Contour Image', contour_image)\n",
        "cv2.waitKey(0)\n",
        "cv2.destroyAllWindows()"
      ],
      "metadata": {
        "id": "ZmLpbPsElL4V"
      },
      "execution_count": null,
      "outputs": []
    },
    {
      "cell_type": "markdown",
      "source": [
        "##단순 선형 회귀 모델 구현\n",
        "\n",
        "1. 임의의 데이터셋을 생성하거나 실제 데이터셋을 사용하세요.\n",
        "2. 단순 선형 회귀 모델을 구현하여 학습시키세요.\n",
        "3. 학습된 모델로부터 종속 변수의 값을 예측하세요.\n",
        "4. 모델의 성능을 평가하기 위해 MSE(Mean Squared Error)를 계산하세요.\n",
        "\n",
        "<요구사항>\n",
        "- NumPy 또는 Pandas를 사용하여 데이터를 처리하세요.\n",
        "- Matplotlib 또는 Seaborn을 사용하여 데이터와 회귀선을 시각화하세요."
      ],
      "metadata": {
        "id": "DNJFD29BjhK1"
      }
    },
    {
      "cell_type": "code",
      "source": [
        "import numpy as np\n",
        "import matplotlib.pyplot as plt"
      ],
      "metadata": {
        "id": "2JgCWuFkjqMN"
      },
      "execution_count": null,
      "outputs": []
    },
    {
      "cell_type": "code",
      "source": [
        "# 임의의 데이터셋 생성\n",
        "np.random.seed(42)\n",
        "X = 2*np.random.rand(100,1)\n",
        "y = 4+3*X+np.random.randn(100,1)"
      ],
      "metadata": {
        "id": "FAxb8OF7n73_"
      },
      "execution_count": null,
      "outputs": []
    },
    {
      "cell_type": "code",
      "source": [
        "# 선형 회귀 모델 구현\n",
        "# 각 샘플에 x0 = 1을 추가\n",
        "X_b = np.c_[np.ones((100, 1)), X]\n",
        "theta_best = np.linalg.inv(X_b.T.dot(X_b)).dot(X_b.T).dot(y)\n",
        "\n",
        "X_new = np.array([[0], [2]])\n",
        "X_new_b = np.c_[np.ones((2,1)), X_new]\n",
        "y_predict = X_new_b.dot(theta_best)"
      ],
      "metadata": {
        "id": "9Ekbz8-joImC"
      },
      "execution_count": null,
      "outputs": []
    },
    {
      "cell_type": "code",
      "source": [
        "# 데이터와 회귀선 시각화\n",
        "plt.plot(X, y, 'b.')\n",
        "plt.plot(X_new, y_predict, 'r-', linewidth = 2)\n",
        "plt.xlabel('$x_1$', fontsize = 18)\n",
        "plt.ylabel('$y$', rotation = 0, fontsize = 18)\n",
        "plt.axis([0,2,0,15])\n",
        "plt.show()"
      ],
      "metadata": {
        "colab": {
          "base_uri": "https://localhost:8080/",
          "height": 459
        },
        "id": "e3zFwFsfpDOp",
        "outputId": "a02393ed-c286-4636-b88b-8f21d61d042d"
      },
      "execution_count": null,
      "outputs": [
        {
          "output_type": "display_data",
          "data": {
            "text/plain": [
              "<Figure size 640x480 with 1 Axes>"
            ],
            "image/png": "[encoded data removed]"
          },
          "metadata": {}
        }
      ]
    },
    {
      "cell_type": "markdown",
      "source": [
        "##이미지 분류 모델링\n",
        "1. CIFAR-10 데이터셋을 로드하고 전처리하세요.\n",
        "2. 컨볼루션 신경망 모델을 구축하세요.\n",
        "3. 모델을 학습시키고, 테스트 데이터셋에 대한 정확도를 평가하세요.\n",
        "\n",
        "<요구사항>\n",
        "- TensorFlow 또는 PyTorch를 사용하여 CNN 모델을 구현하세요.\n",
        "- 모델 학습 과정에서의 손실과 정확도를 시각화하세요."
      ],
      "metadata": {
        "id": "8KsqepfXjqzp"
      }
    },
    {
      "cell_type": "code",
      "source": [
        "import tensorflow as tf\n",
        "from tensorflow.keras import layers, models\n",
        "from tensorflow.keras.datasets import cifar10"
      ],
      "metadata": {
        "id": "mEL3604ujtG6"
      },
      "execution_count": null,
      "outputs": []
    },
    {
      "cell_type": "code",
      "source": [
        "# 데이터 로드 및 전처리\n",
        "(X_train, y_train), (X_test, y_test) = cifar10.load_data()\n",
        "X_train, X_test = X_train/255.0, X_test/255.0"
      ],
      "metadata": {
        "colab": {
          "base_uri": "https://localhost:8080/"
        },
        "id": "L4M_SdQVpzAJ",
        "outputId": "d9e6314b-7503-4815-c339-58383fa86b6f"
      },
      "execution_count": null,
      "outputs": [
        {
          "output_type": "stream",
          "name": "stdout",
          "text": [
            "Downloading data from https://www.cs.toronto.edu/~kriz/cifar-10-python.tar.gz\n",
            "170498071/170498071 [==============================] - 2s 0us/step\n"
          ]
        }
      ]
    },
    {
      "cell_type": "code",
      "source": [
        "# 모델 구축\n",
        "model = models.Sequential([\n",
        "    layers.Conv2D(32,(3,3), activation = 'relu', input_shape = (32,32,3)),\n",
        "    layers.MaxPooling2D((2,2)),\n",
        "    layers.Conv2D(64,(3,3), activation = 'relu'),\n",
        "    layers.MaxPooling2D((2,2)),\n",
        "    layers.Conv2D(64,(3,3), activation = 'relu'),\n",
        "    layers.Flatten(),\n",
        "    layers.Dense(64, activation = 'relu'),\n",
        "    layers.Dense(10, activation = 'softmax')\n",
        "])"
      ],
      "metadata": {
        "id": "YnZzRjOGqB7w"
      },
      "execution_count": null,
      "outputs": []
    },
    {
      "cell_type": "code",
      "source": [
        "# 모델 컴파일 및 학습\n",
        "model.compile(optimizer = 'adam', loss = 'sparse_categorical_crossentropy', metrics = ['accuracy'])\n",
        "model.fit(X_train, y_train, epochs = 1, validation_data = (X_test, y_test))"
      ],
      "metadata": {
        "colab": {
          "base_uri": "https://localhost:8080/"
        },
        "id": "scFMhe5KrAjA",
        "outputId": "d6df583f-8b0b-40dc-885d-a4cc1249b54e"
      },
      "execution_count": null,
      "outputs": [
        {
          "output_type": "stream",
          "name": "stdout",
          "text": [
            "1563/1563 [==============================] - 98s 62ms/step - loss: 1.3351 - accuracy: 0.5222 - val_loss: 1.1789 - val_accuracy: 0.5764\n"
          ]
        },
        {
          "output_type": "execute_result",
          "data": {
            "text/plain": [
              "<keras.src.callbacks.History at 0x7c6428db0d60>"
            ]
          },
          "metadata": {},
          "execution_count": 11
        }
      ]
    },
    {
      "cell_type": "markdown",
      "source": [
        "##시계열 예측 모델링\n",
        "주어진 시계열 데이터에 대해 LSTM(Long Short-Term Memory) 모델을 사용하여 다음 N개 시점의 값을 예측하세요.\n",
        "\n",
        "1. 임의의 시계열 데이터를 생성하거나 실제 시계열 데이터를 사용하세요.\n",
        "2. 데이터를 학습용과 테스트용으로 분할하세요.\n",
        "3. LSTM 모델을 구축하여 시계열 데이터를 학습시키세요.\n",
        "4. 학습된 모델을 사용하여 테스트 데이터에 대한 예측을 수행하고, 예측 성능을 평가하세요.\n",
        "\n",
        "<요구사항>\n",
        "- 데이터 분할 시 시계열의 연속성을 유지하세요.\n",
        "- TensorFlow 또는 PyTorch를 사용하여 LSTM 모델을 구현하세요.\n",
        "- 모델의 예측 결과를 실제 값과 비교하여 시각화하세요.\n",
        "\n",
        "\n",
        "\n",
        "\n",
        "\n"
      ],
      "metadata": {
        "id": "cra_lBLHkUhH"
      }
    },
    {
      "cell_type": "code",
      "source": [
        "import numpy as np\n",
        "import tensorflow as tf\n",
        "from tensorflow.keras.models import Sequential\n",
        "from tensorflow.keras.layers import LSTM, Dense"
      ],
      "metadata": {
        "id": "XnfFzNNckm4e"
      },
      "execution_count": null,
      "outputs": []
    },
    {
      "cell_type": "code",
      "source": [
        "# 임의의 시계열 데이터 생성(실제 데이터 사용 필요)\n",
        "data = np.sin(np.linspace(0,20,100)) + np.random.normal(0,0.1,100)\n",
        "X, y = [], []\n",
        "for i in range(10, len(data)):\n",
        "  X.append(data[i-10:i])\n",
        "  y.append(data[i])\n",
        "X, y = np.array(X), np.array(y)"
      ],
      "metadata": {
        "id": "eP5FPdLrr0yW"
      },
      "execution_count": null,
      "outputs": []
    },
    {
      "cell_type": "code",
      "source": [
        "# LSTM 모델 구축\n",
        "model = Sequential([\n",
        "    LSTM(50, return_sequences=False, input_shape = (X.shape[1], 1)),\n",
        "    Dense(1)\n",
        "])"
      ],
      "metadata": {
        "id": "B57sY_R6sMah"
      },
      "execution_count": null,
      "outputs": []
    },
    {
      "cell_type": "code",
      "source": [
        "# 모델 컴파일 및 학습\n",
        "# \"loss = 'mean_squared_error'\"라고 쓸 수 있음\n",
        "model.compile(optimizer = 'adam', loss = 'mse')\n",
        "model.fit(X[...,np.newaxis], y, epochs=5, validation_split = 0.2)"
      ],
      "metadata": {
        "colab": {
          "base_uri": "https://localhost:8080/"
        },
        "id": "1H0896ceseH_",
        "outputId": "1ed05b59-2a46-4f42-e067-f7bf61d51c48"
      },
      "execution_count": null,
      "outputs": [
        {
          "output_type": "stream",
          "name": "stdout",
          "text": [
            "Epoch 1/5\n",
            "3/3 [==============================] - 5s 286ms/step - loss: 0.3493 - val_loss: 0.4162\n",
            "Epoch 2/5\n",
            "3/3 [==============================] - 0s 25ms/step - loss: 0.3228 - val_loss: 0.3984\n",
            "Epoch 3/5\n",
            "3/3 [==============================] - 0s 24ms/step - loss: 0.3025 - val_loss: 0.3756\n",
            "Epoch 4/5\n",
            "3/3 [==============================] - 0s 25ms/step - loss: 0.2855 - val_loss: 0.3507\n",
            "Epoch 5/5\n",
            "3/3 [==============================] - 0s 27ms/step - loss: 0.2652 - val_loss: 0.3258\n"
          ]
        },
        {
          "output_type": "execute_result",
          "data": {
            "text/plain": [
              "<keras.src.callbacks.History at 0x7c6428ecd0f0>"
            ]
          },
          "metadata": {},
          "execution_count": 16
        }
      ]
    }
  ]
}