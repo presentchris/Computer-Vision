{
  "nbformat": 4,
  "nbformat_minor": 0,
  "metadata": {
    "colab": {
      "provenance": [],
      "authorship_tag": "ABX9TyOe7geQ55oVpk+VJt4ZQyn+",
      "include_colab_link": true
    },
    "kernelspec": {
      "name": "python3",
      "display_name": "Python 3"
    },
    "language_info": {
      "name": "python"
    }
  },
  "cells": [
    {
      "cell_type": "markdown",
      "metadata": {
        "id": "view-in-github",
        "colab_type": "text"
      },
      "source": [
        "<a href=\"https://colab.research.google.com/github/presentchris/Computer-Vision/blob/main/Practice_of_Stats%26Models1.ipynb\" target=\"_parent\"><img src=\"https://colab.research.google.com/assets/colab-badge.svg\" alt=\"Open In Colab\"/></a>"
      ]
    },
    {
      "cell_type": "markdown",
      "source": [
        "##통계 기초 및 단순 회귀분석"
      ],
      "metadata": {
        "id": "DxodKP8Vv0Rj"
      }
    },
    {
      "cell_type": "code",
      "execution_count": null,
      "metadata": {
        "id": "rg-0dMfwc2hY"
      },
      "outputs": [],
      "source": [
        "import numpy as np\n",
        "import matplotlib.pyplot as plt\n",
        "from sklearn.model_selection import train_test_split\n",
        "from sklearn.linear_model import LinearRegression\n",
        "from sklearn.metrics import mean_squared_error"
      ]
    },
    {
      "cell_type": "code",
      "source": [
        "#데이터셋 생성\n",
        "np.random.seed(0)\n",
        "\n",
        "#Array of 100 values with mean = 1.5, stddev = 2.5\n",
        "X = 2.5 * np.random.randn(100)+1.5\n",
        "\n",
        "#Generate 100 residual terms\n",
        "res = 0.5 * np.random.randn(100)\n",
        "\n",
        "#Actual values of Y\n",
        "y = 2 + 0.3 * X + res"
      ],
      "metadata": {
        "id": "N8BW52awvzwa"
      },
      "execution_count": null,
      "outputs": []
    },
    {
      "cell_type": "code",
      "source": [
        "#데이터셋 분리\n",
        "X_train, X_test, y_train, y_test = train_test_split(X, y, test_size=0.2, random_state=42)"
      ],
      "metadata": {
        "id": "sa7ekr1FwnV9"
      },
      "execution_count": null,
      "outputs": []
    },
    {
      "cell_type": "code",
      "source": [
        "#모델 학습\n",
        "X_train = X_train.reshape(-1, 1)\n",
        "X_test = X_test.reshape(-1, 1)\n",
        "model = LinearRegression()\n",
        "model.fit(X_train, y_train)"
      ],
      "metadata": {
        "id": "j9r75T7OzJc9"
      },
      "execution_count": null,
      "outputs": []
    },
    {
      "cell_type": "code",
      "source": [
        "#모델 평가\n",
        "y_pred = model.predict(X_test)\n",
        "mse = mean_squared_error(y_test, y_pred)\n",
        "print(f'MSE: {mse}')"
      ],
      "metadata": {
        "id": "OGPeWXY3zuNs"
      },
      "execution_count": null,
      "outputs": []
    },
    {
      "cell_type": "markdown",
      "source": [
        "##이미지 분류 모델링"
      ],
      "metadata": {
        "id": "DfxVrJOd1Hlm"
      }
    },
    {
      "cell_type": "code",
      "source": [
        "import tensorflow as tf\n",
        "from tensorflow.keras import datasets, layers, models\n",
        "import matplotlib.pyplot as plt"
      ],
      "metadata": {
        "id": "tdCR4wcb1KsW"
      },
      "execution_count": null,
      "outputs": []
    },
    {
      "cell_type": "code",
      "source": [
        "#CIFAR-10 데이터셋 로드\n",
        "(train_images, train_labels),(test_images, test_labels) = datasets.cifar10.load_data()\n"
      ],
      "metadata": {
        "id": "WECCFqtf1YV5"
      },
      "execution_count": null,
      "outputs": []
    },
    {
      "cell_type": "code",
      "source": [
        "#데이터 정규화\n",
        "train_images, test_images = train_images/255.0, test_images/255.0"
      ],
      "metadata": {
        "id": "6C2jw-T415e9"
      },
      "execution_count": null,
      "outputs": []
    },
    {
      "cell_type": "code",
      "source": [
        "#모델 구축\n",
        "model = models.Sequential()\n",
        "model.add(layers.Conv2D(32, (3,3), activation='relu', input_shape=(32,32,3)))\n",
        "model.add(layers.MaxPooling2D((2,2)))\n",
        "model.add(layers.Conv2D(64,(3,3), activation='relu'))\n",
        "model.add(layers.MaxPooling2D((2,2)))\n",
        "model.add(layers.Conv2D(64, (3,3), activation='relu'))\n",
        "model.add(layers.Flatten())\n",
        "model.add(layers.Dense(64, activation='relu'))\n",
        "model.add(layers.Dense(10, activation='softmax'))"
      ],
      "metadata": {
        "id": "2grXRKgT2DgP"
      },
      "execution_count": null,
      "outputs": []
    },
    {
      "cell_type": "code",
      "source": [
        "#모델 컴파일\n",
        "model.compile(optimizer='adam',\n",
        "              loss=tf.keras.losses.SparseCategoricalCrossentropy(),\n",
        "              metrics=['accuracy'])"
      ],
      "metadata": {
        "id": "CRpspxJ23EWA"
      },
      "execution_count": null,
      "outputs": []
    },
    {
      "cell_type": "code",
      "source": [
        "#모델 학습\n",
        "history = model.fit(train_images, train_labels, epochs=10,\n",
        "                    validation_data=(test_images, test_labels))"
      ],
      "metadata": {
        "id": "Uw-WL59f3dqJ"
      },
      "execution_count": null,
      "outputs": []
    },
    {
      "cell_type": "code",
      "source": [
        "#모델 평가\n",
        "test_loss, test_acc = model.evaluate(test_images, test_labels, verbose=2)\n",
        "print(test_acc)"
      ],
      "metadata": {
        "id": "Jym-z2FE3xto"
      },
      "execution_count": null,
      "outputs": []
    },
    {
      "cell_type": "markdown",
      "source": [
        "##시계열 예측 모델링"
      ],
      "metadata": {
        "id": "rUCIJxoh4FbN"
      }
    },
    {
      "cell_type": "code",
      "source": [
        "from statsmodels.tsa.arima.model import ARIMA\n",
        "import pandas as pd\n",
        "import numpy as np"
      ],
      "metadata": {
        "id": "VX5UVk_24JE4"
      },
      "execution_count": null,
      "outputs": []
    },
    {
      "cell_type": "code",
      "source": [
        "#임의의 시계열 데이터 생성\n",
        "np.random.seed(0)\n",
        "\n",
        "#임의의 누적 합 데이터 생성\n",
        "data = np.random.randn(100).cumsum()+100"
      ],
      "metadata": {
        "id": "yUvKYKsH4ZSg"
      },
      "execution_count": null,
      "outputs": []
    },
    {
      "cell_type": "code",
      "source": [
        "#ARIMA 모델 학습\n",
        "model = ARIMA(data, order=(5,1,0))\n",
        "model_fit = model.fit()"
      ],
      "metadata": {
        "id": "CllHSzhX4nH2"
      },
      "execution_count": null,
      "outputs": []
    },
    {
      "cell_type": "code",
      "source": [
        "#다음 5개 데이터 예측\n",
        "forecast = model_fit.forecast(steps=5)\n",
        "print(forecast)"
      ],
      "metadata": {
        "id": "C8aI9Ccc4x66"
      },
      "execution_count": null,
      "outputs": []
    }
  ]
}