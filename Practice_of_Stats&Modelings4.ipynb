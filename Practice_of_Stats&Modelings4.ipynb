{
  "nbformat": 4,
  "nbformat_minor": 0,
  "metadata": {
    "colab": {
      "provenance": [],
      "authorship_tag": "ABX9TyP23kblNzoj9lc9rE/arQpi",
      "include_colab_link": true
    },
    "kernelspec": {
      "name": "python3",
      "display_name": "Python 3"
    },
    "language_info": {
      "name": "python"
    }
  },
  "cells": [
    {
      "cell_type": "markdown",
      "metadata": {
        "id": "view-in-github",
        "colab_type": "text"
      },
      "source": [
        "<a href=\"https://colab.research.google.com/github/presentchris/Computer-Vision/blob/main/Practice_of_Stats%26Modelings4.ipynb\" target=\"_parent\"><img src=\"https://colab.research.google.com/assets/colab-badge.svg\" alt=\"Open In Colab\"/></a>"
      ]
    },
    {
      "cell_type": "markdown",
      "source": [
        "##단순 선형 회귀"
      ],
      "metadata": {
        "id": "pw5MUX1tr7AJ"
      }
    },
    {
      "cell_type": "code",
      "source": [
        "from sklearn.model_selection import train_test_split\n",
        "from sklearn.linear_model import LinearRegression\n",
        "from sklearn.metrics import mean_squared_error, r2_score\n",
        "import numpy as np"
      ],
      "metadata": {
        "id": "edNBA2l9qArm"
      },
      "execution_count": null,
      "outputs": []
    },
    {
      "cell_type": "code",
      "source": [
        "# 예제 데이터 생성\n",
        "X = 2*np.random.rand(100, 1)\n",
        "y = 4+3*X+np.random.randn(100,1)"
      ],
      "metadata": {
        "id": "TqGJBV3gsY6t"
      },
      "execution_count": null,
      "outputs": []
    },
    {
      "cell_type": "code",
      "source": [
        "# 데이터 분할\n",
        "X_train, X_test, y_train, y_test = train_test_split(X, y, test_size = 0.2)"
      ],
      "metadata": {
        "id": "7j36JPvisj0e"
      },
      "execution_count": null,
      "outputs": []
    },
    {
      "cell_type": "code",
      "source": [
        "# 모델 학습\n",
        "model = LinearRegression()\n",
        "model.fit(X_train, y_train)"
      ],
      "metadata": {
        "colab": {
          "base_uri": "https://localhost:8080/",
          "height": 74
        },
        "id": "6bXsElJSsvo3",
        "outputId": "44008919-33d2-4a87-9aea-06bea07d9273"
      },
      "execution_count": null,
      "outputs": [
        {
          "output_type": "execute_result",
          "data": {
            "text/plain": [
              "LinearRegression()"
            ],
            "text/html": [
              "<style>#sk-container-id-1 {color: black;background-color: white;}#sk-container-id-1 pre{padding: 0;}#sk-container-id-1 div.sk-toggleable {background-color: white;}#sk-container-id-1 label.sk-toggleable__label {cursor: pointer;display: block;width: 100%;margin-bottom: 0;padding: 0.3em;box-sizing: border-box;text-align: center;}#sk-container-id-1 label.sk-toggleable__label-arrow:before {content: \"▸\";float: left;margin-right: 0.25em;color: #696969;}#sk-container-id-1 label.sk-toggleable__label-arrow:hover:before {color: black;}#sk-container-id-1 div.sk-estimator:hover label.sk-toggleable__label-arrow:before {color: black;}#sk-container-id-1 div.sk-toggleable__content {max-height: 0;max-width: 0;overflow: hidden;text-align: left;background-color: #f0f8ff;}#sk-container-id-1 div.sk-toggleable__content pre {margin: 0.2em;color: black;border-radius: 0.25em;background-color: #f0f8ff;}#sk-container-id-1 input.sk-toggleable__control:checked~div.sk-toggleable__content {max-height: 200px;max-width: 100%;overflow: auto;}#sk-container-id-1 input.sk-toggleable__control:checked~label.sk-toggleable__label-arrow:before {content: \"▾\";}#sk-container-id-1 div.sk-estimator input.sk-toggleable__control:checked~label.sk-toggleable__label {background-color: #d4ebff;}#sk-container-id-1 div.sk-label input.sk-toggleable__control:checked~label.sk-toggleable__label {background-color: #d4ebff;}#sk-container-id-1 input.sk-hidden--visually {border: 0;clip: rect(1px 1px 1px 1px);clip: rect(1px, 1px, 1px, 1px);height: 1px;margin: -1px;overflow: hidden;padding: 0;position: absolute;width: 1px;}#sk-container-id-1 div.sk-estimator {font-family: monospace;background-color: #f0f8ff;border: 1px dotted black;border-radius: 0.25em;box-sizing: border-box;margin-bottom: 0.5em;}#sk-container-id-1 div.sk-estimator:hover {background-color: #d4ebff;}#sk-container-id-1 div.sk-parallel-item::after {content: \"\";width: 100%;border-bottom: 1px solid gray;flex-grow: 1;}#sk-container-id-1 div.sk-label:hover label.sk-toggleable__label {background-color: #d4ebff;}#sk-container-id-1 div.sk-serial::before {content: \"\";position: absolute;border-left: 1px solid gray;box-sizing: border-box;top: 0;bottom: 0;left: 50%;z-index: 0;}#sk-container-id-1 div.sk-serial {display: flex;flex-direction: column;align-items: center;background-color: white;padding-right: 0.2em;padding-left: 0.2em;position: relative;}#sk-container-id-1 div.sk-item {position: relative;z-index: 1;}#sk-container-id-1 div.sk-parallel {display: flex;align-items: stretch;justify-content: center;background-color: white;position: relative;}#sk-container-id-1 div.sk-item::before, #sk-container-id-1 div.sk-parallel-item::before {content: \"\";position: absolute;border-left: 1px solid gray;box-sizing: border-box;top: 0;bottom: 0;left: 50%;z-index: -1;}#sk-container-id-1 div.sk-parallel-item {display: flex;flex-direction: column;z-index: 1;position: relative;background-color: white;}#sk-container-id-1 div.sk-parallel-item:first-child::after {align-self: flex-end;width: 50%;}#sk-container-id-1 div.sk-parallel-item:last-child::after {align-self: flex-start;width: 50%;}#sk-container-id-1 div.sk-parallel-item:only-child::after {width: 0;}#sk-container-id-1 div.sk-dashed-wrapped {border: 1px dashed gray;margin: 0 0.4em 0.5em 0.4em;box-sizing: border-box;padding-bottom: 0.4em;background-color: white;}#sk-container-id-1 div.sk-label label {font-family: monospace;font-weight: bold;display: inline-block;line-height: 1.2em;}#sk-container-id-1 div.sk-label-container {text-align: center;}#sk-container-id-1 div.sk-container {/* jupyter's `normalize.less` sets `[hidden] { display: none; }` but bootstrap.min.css set `[hidden] { display: none !important; }` so we also need the `!important` here to be able to override the default hidden behavior on the sphinx rendered scikit-learn.org. See: https://github.com/scikit-learn/scikit-learn/issues/21755 */display: inline-block !important;position: relative;}#sk-container-id-1 div.sk-text-repr-fallback {display: none;}</style><div id=\"sk-container-id-1\" class=\"sk-top-container\"><div class=\"sk-text-repr-fallback\"><pre>LinearRegression()</pre><b>In a Jupyter environment, please rerun this cell to show the HTML representation or trust the notebook. <br />On GitHub, the HTML representation is unable to render, please try loading this page with nbviewer.org.</b></div><div class=\"sk-container\" hidden><div class=\"sk-item\"><div class=\"sk-estimator sk-toggleable\"><input class=\"sk-toggleable__control sk-hidden--visually\" id=\"sk-estimator-id-1\" type=\"checkbox\" checked><label for=\"sk-estimator-id-1\" class=\"sk-toggleable__label sk-toggleable__label-arrow\">LinearRegression</label><div class=\"sk-toggleable__content\"><pre>LinearRegression()</pre></div></div></div></div></div>"
            ]
          },
          "metadata": {},
          "execution_count": 4
        }
      ]
    },
    {
      "cell_type": "code",
      "source": [
        "# 예측 및 성능 평가\n",
        "y_pred = model.predict(X_test)\n",
        "print(\"R^2 Score:\", r2_score(y_test, y_pred))\n",
        "print(\"RMSE:\", np.sqrt(mean_squared_error(y_test, y_pred)))"
      ],
      "metadata": {
        "colab": {
          "base_uri": "https://localhost:8080/"
        },
        "id": "0jznACZks1Nj",
        "outputId": "1a5a18d1-9099-43f6-8b6d-a6426e612ee8"
      },
      "execution_count": null,
      "outputs": [
        {
          "output_type": "stream",
          "name": "stdout",
          "text": [
            "R^2 Score: 0.7114345747424383\n",
            "RMSE: 1.0335322052447635\n"
          ]
        }
      ]
    },
    {
      "cell_type": "markdown",
      "source": [
        "##Fashion MNIST 이미지 분류"
      ],
      "metadata": {
        "id": "_mMBzECntXmF"
      }
    },
    {
      "cell_type": "code",
      "source": [
        "from tensorflow.keras.datasets import fashion_mnist\n",
        "from tensorflow.keras.models import Sequential\n",
        "from tensorflow.keras.layers import Dense, Flatten, Conv2D, MaxPooling2D\n",
        "from tensorflow.keras.utils import to_categorical"
      ],
      "metadata": {
        "id": "2fTa6k1is7hR"
      },
      "execution_count": null,
      "outputs": []
    },
    {
      "cell_type": "code",
      "source": [
        "# 데이터 로딩 및 전처리\n",
        "(train_X, train_y), (test_X, test_y) = fashion_mnist.load_data()\n",
        "train_X = train_X.reshape((60000,28,28,1)).astype('float32')/255\n",
        "test_X = test_X.reshape((10000,28,28,1)).astype('float32')/255\n",
        "train_y = to_categorical(train_y)\n",
        "test_y = to_categorical(test_y)"
      ],
      "metadata": {
        "id": "oJLgfIT1tvT6"
      },
      "execution_count": null,
      "outputs": []
    },
    {
      "cell_type": "code",
      "source": [
        "# 모델 구축\n",
        "model = Sequential([\n",
        "    Conv2D(32,(3,3), activation = 'relu', input_shape = (28,28,1)),\n",
        "    MaxPooling2D((2,2)),\n",
        "    Flatten(),\n",
        "    Dense(128, activation = 'relu'),\n",
        "    Dense(10, activation = 'softmax')\n",
        "    ])"
      ],
      "metadata": {
        "id": "r_7WkrBOuVNG"
      },
      "execution_count": null,
      "outputs": []
    },
    {
      "cell_type": "code",
      "source": [
        "# 컴파일 및 학습\n",
        "model.compile(optimizer = 'adam', loss = 'categorical_crossentropy', metrics = ['accuracy'])\n",
        "model.fit(train_X, train_y, epochs = 5, validation_split = 0.2)"
      ],
      "metadata": {
        "colab": {
          "base_uri": "https://localhost:8080/"
        },
        "id": "lOhBkmDFu_rs",
        "outputId": "d212239f-468e-43ba-8cfa-be07ceb36009"
      },
      "execution_count": null,
      "outputs": [
        {
          "output_type": "stream",
          "name": "stdout",
          "text": [
            "Epoch 1/5\n",
            "1500/1500 [==============================] - 47s 30ms/step - loss: 0.4171 - accuracy: 0.8538 - val_loss: 0.3134 - val_accuracy: 0.8876\n",
            "Epoch 2/5\n",
            "1500/1500 [==============================] - 41s 28ms/step - loss: 0.2799 - accuracy: 0.8990 - val_loss: 0.2775 - val_accuracy: 0.9016\n",
            "Epoch 3/5\n",
            "1500/1500 [==============================] - 40s 27ms/step - loss: 0.2313 - accuracy: 0.9160 - val_loss: 0.2514 - val_accuracy: 0.9088\n",
            "Epoch 4/5\n",
            "1500/1500 [==============================] - 44s 29ms/step - loss: 0.1980 - accuracy: 0.9269 - val_loss: 0.2501 - val_accuracy: 0.9124\n",
            "Epoch 5/5\n",
            "1500/1500 [==============================] - 50s 33ms/step - loss: 0.1686 - accuracy: 0.9377 - val_loss: 0.2396 - val_accuracy: 0.9172\n"
          ]
        },
        {
          "output_type": "execute_result",
          "data": {
            "text/plain": [
              "<keras.src.callbacks.History at 0x79a249c16a70>"
            ]
          },
          "metadata": {},
          "execution_count": 12
        }
      ]
    },
    {
      "cell_type": "code",
      "source": [
        "# 성능 평가\n",
        "test_loss, test_acc = model.evaluate(test_X, test_y)\n",
        "print('Test accuracy:', test_acc)"
      ],
      "metadata": {
        "colab": {
          "base_uri": "https://localhost:8080/"
        },
        "id": "2uTrVZs6vZWM",
        "outputId": "8c7291aa-216d-41a5-a5ea-4ff6e7c69483"
      },
      "execution_count": null,
      "outputs": [
        {
          "output_type": "stream",
          "name": "stdout",
          "text": [
            "313/313 [==============================] - 3s 8ms/step - loss: 0.2518 - accuracy: 0.9120\n",
            "Test accuracy: 0.9120000004768372\n"
          ]
        }
      ]
    },
    {
      "cell_type": "markdown",
      "source": [
        "##LSTM을 사용한 시계열 예측"
      ],
      "metadata": {
        "id": "AMUcJn6KvlZz"
      }
    },
    {
      "cell_type": "code",
      "source": [
        "from tensorflow.keras.models import Sequential\n",
        "from tensorflow.keras.layers import LSTM, Dense\n",
        "import numpy as np"
      ],
      "metadata": {
        "id": "Q4N_zYHQvkU6"
      },
      "execution_count": null,
      "outputs": []
    },
    {
      "cell_type": "code",
      "source": [
        "# 임의의 시계열 데이터 생성\n",
        "data = np.sin(np.linspace(0,20,100)) + np.random.normal(0,0.1,100)"
      ],
      "metadata": {
        "id": "omg33BJnvxON"
      },
      "execution_count": null,
      "outputs": []
    },
    {
      "cell_type": "code",
      "source": [
        "# 데이터 전처리\n",
        "X, y = [], []\n",
        "for i in range(len(data)-5):\n",
        "  X.append(data[i:i+5])\n",
        "  y.append(data[i+5])\n",
        "\n",
        "X = np.array(X).reshape(-1, 5, 1)\n",
        "y = np.array(y)"
      ],
      "metadata": {
        "id": "XuHvEqxTv_oH"
      },
      "execution_count": null,
      "outputs": []
    },
    {
      "cell_type": "code",
      "source": [
        "# 모델 구축\n",
        "model = Sequential([\n",
        "    LSTM(50, activation = 'relu', input_shape = (5,1)),\n",
        "    Dense(1)\n",
        "])"
      ],
      "metadata": {
        "id": "QoiGtfU_wUlj"
      },
      "execution_count": null,
      "outputs": []
    },
    {
      "cell_type": "code",
      "source": [
        "# 컴파일 및 학습\n",
        "model.compile(optimizer = 'adam', loss = 'mse')\n",
        "model.fit(X, y , epochs = 5, verbose = 2)"
      ],
      "metadata": {
        "colab": {
          "base_uri": "https://localhost:8080/"
        },
        "id": "fTfvVXYlweWL",
        "outputId": "e700fa96-88d2-4daa-f609-6a76bc5ec526"
      },
      "execution_count": null,
      "outputs": [
        {
          "output_type": "stream",
          "name": "stdout",
          "text": [
            "Epoch 1/5\n",
            "3/3 - 2s - loss: 0.5216 - 2s/epoch - 716ms/step\n",
            "Epoch 2/5\n",
            "3/3 - 0s - loss: 0.4887 - 15ms/epoch - 5ms/step\n",
            "Epoch 3/5\n",
            "3/3 - 0s - loss: 0.4568 - 16ms/epoch - 5ms/step\n",
            "Epoch 4/5\n",
            "3/3 - 0s - loss: 0.4285 - 16ms/epoch - 5ms/step\n",
            "Epoch 5/5\n",
            "3/3 - 0s - loss: 0.4001 - 13ms/epoch - 4ms/step\n"
          ]
        },
        {
          "output_type": "execute_result",
          "data": {
            "text/plain": [
              "<keras.src.callbacks.History at 0x79a24824bf70>"
            ]
          },
          "metadata": {},
          "execution_count": 18
        }
      ]
    },
    {
      "cell_type": "code",
      "source": [
        "# 예측 및 시각화\n",
        "import matplotlib.pyplot as plt\n",
        "\n",
        "# 예측을 위한 입력 데이터 준비\n",
        "# 여기서는 마지막 5개의 데이터 포인트를 사용하여 다음 포인트를 예측\n",
        "# 실제 문제에서는 새로운 데이터 또는 테스트 데이터셋을 사용할 수 있음\n",
        "X_new = data[-5:].reshape(1,5,1)\n",
        "y_pred = model.predict(X_new)\n",
        "\n",
        "# 실제 값과 예측 값 시각화\n",
        "plt.figure(figsize = (10, 6))\n",
        "plt.plot(np.arange(len(data)), data, label = 'Actual Time Series', color = 'blue')\n",
        "plt.scatter(len(data), y_pred, color = 'red', label = 'Predicted Next Value')\n",
        "plt.legend()\n",
        "plt.title('Time Series Prediction with LSTM')\n",
        "plt.xlabel('Time Step')\n",
        "plt.ylabel('Value')\n",
        "plt.show()"
      ],
      "metadata": {
        "colab": {
          "base_uri": "https://localhost:8080/",
          "height": 450
        },
        "id": "vF1mQCsEwpS2",
        "outputId": "69129f49-a313-4559-a6c8-be749626431b"
      },
      "execution_count": null,
      "outputs": [
        {
          "output_type": "stream",
          "name": "stdout",
          "text": [
            "1/1 [==============================] - 0s 213ms/step\n"
          ]
        },
        {
          "output_type": "display_data",
          "data": {
            "text/plain": [
              "<Figure size 1000x600 with 1 Axes>"
            ],
            "image/png": "[encoded data removed]"
          },
          "metadata": {}
        }
      ]
    }
  ]
}